{
 "cells": [
  {
   "cell_type": "markdown",
   "id": "5d7b8556",
   "metadata": {},
   "source": [
    "# Fetching player stats from current season\n"
   ]
  },
  {
   "cell_type": "code",
   "execution_count": 1,
   "id": "ab043aa5",
   "metadata": {},
   "outputs": [],
   "source": [
    "from nba_api.stats.endpoints import playercareerstats\n",
    "from nba_api.stats.static import players\n",
    "import pandas as pd\n",
    "import time"
   ]
  },
  {
   "cell_type": "code",
   "execution_count": 3,
   "id": "2f457740",
   "metadata": {},
   "outputs": [],
   "source": [
    "def getPlayerStats(playerID):\n",
    "    playerStats = playercareerstats.PlayerCareerStats(per_mode36='PerGame',player_id=playerID)\n",
    "    playerStats_df = playerStats.get_data_frames()[0]\n",
    "    return playerStats_df"
   ]
  },
  {
   "cell_type": "code",
   "execution_count": 34,
   "id": "2d706c64",
   "metadata": {},
   "outputs": [
    {
     "data": {
      "text/html": [
       "<div>\n",
       "<style scoped>\n",
       "    .dataframe tbody tr th:only-of-type {\n",
       "        vertical-align: middle;\n",
       "    }\n",
       "\n",
       "    .dataframe tbody tr th {\n",
       "        vertical-align: top;\n",
       "    }\n",
       "\n",
       "    .dataframe thead th {\n",
       "        text-align: right;\n",
       "    }\n",
       "</style>\n",
       "<table border=\"1\" class=\"dataframe\">\n",
       "  <thead>\n",
       "    <tr style=\"text-align: right;\">\n",
       "      <th></th>\n",
       "      <th>PLAYER_ID</th>\n",
       "      <th>SEASON_ID</th>\n",
       "      <th>LEAGUE_ID</th>\n",
       "      <th>TEAM_ID</th>\n",
       "      <th>TEAM_ABBREVIATION</th>\n",
       "      <th>PLAYER_AGE</th>\n",
       "      <th>GP</th>\n",
       "      <th>GS</th>\n",
       "      <th>MIN</th>\n",
       "      <th>FGM</th>\n",
       "      <th>...</th>\n",
       "      <th>FT_PCT</th>\n",
       "      <th>OREB</th>\n",
       "      <th>DREB</th>\n",
       "      <th>REB</th>\n",
       "      <th>AST</th>\n",
       "      <th>STL</th>\n",
       "      <th>BLK</th>\n",
       "      <th>TOV</th>\n",
       "      <th>PF</th>\n",
       "      <th>PTS</th>\n",
       "    </tr>\n",
       "  </thead>\n",
       "  <tbody>\n",
       "    <tr>\n",
       "      <th>21</th>\n",
       "      <td>2544</td>\n",
       "      <td>2024-25</td>\n",
       "      <td>00</td>\n",
       "      <td>1610612747</td>\n",
       "      <td>LAL</td>\n",
       "      <td>40.0</td>\n",
       "      <td>70</td>\n",
       "      <td>70</td>\n",
       "      <td>34.9</td>\n",
       "      <td>9.3</td>\n",
       "      <td>...</td>\n",
       "      <td>0.782</td>\n",
       "      <td>1.0</td>\n",
       "      <td>6.8</td>\n",
       "      <td>7.8</td>\n",
       "      <td>8.2</td>\n",
       "      <td>1.0</td>\n",
       "      <td>0.6</td>\n",
       "      <td>3.7</td>\n",
       "      <td>1.4</td>\n",
       "      <td>24.4</td>\n",
       "    </tr>\n",
       "  </tbody>\n",
       "</table>\n",
       "<p>1 rows × 27 columns</p>\n",
       "</div>"
      ],
      "text/plain": [
       "    PLAYER_ID SEASON_ID LEAGUE_ID     TEAM_ID TEAM_ABBREVIATION  PLAYER_AGE  \\\n",
       "21       2544   2024-25        00  1610612747               LAL        40.0   \n",
       "\n",
       "    GP  GS   MIN  FGM  ...  FT_PCT  OREB  DREB  REB  AST  STL  BLK  TOV   PF  \\\n",
       "21  70  70  34.9  9.3  ...   0.782   1.0   6.8  7.8  8.2  1.0  0.6  3.7  1.4   \n",
       "\n",
       "     PTS  \n",
       "21  24.4  \n",
       "\n",
       "[1 rows x 27 columns]"
      ]
     },
     "execution_count": 34,
     "metadata": {},
     "output_type": "execute_result"
    }
   ],
   "source": [
    "lebron_stats = getPlayerStats(2544) #lebron james stats\n",
    "current_season = lebron_stats[len(lebron_stats)-1:]\n",
    "current_season\n"
   ]
  },
  {
   "cell_type": "code",
   "execution_count": 5,
   "id": "358d40a4",
   "metadata": {},
   "outputs": [],
   "source": [
    "sga_stats = getPlayerStats(1628983) #free throw merchant stats\n",
    "season_rankings = playercareerstats.PlayerCareerStats\n",
    "current_season = sga_stats[len(sga_stats)-1:]\n",
    "current_season.to_csv(f\"sga_stats.csv\",index=False)"
   ]
  },
  {
   "cell_type": "code",
   "execution_count": 8,
   "id": "069c7da2",
   "metadata": {},
   "outputs": [
    {
     "name": "stdout",
     "output_type": "stream",
     "text": [
      "    PLAYER_ID SEASON_ID LEAGUE_ID     TEAM_ID TEAM_ABBREVIATION  PLAYER_AGE  \\\n",
      "21       2544   2024-25        00  1610612747               LAL        40.0   \n",
      "\n",
      "    GP  GS   MIN  FGM  ...  FT_PCT  OREB  DREB  REB  AST  STL  BLK  TOV  PF  \\\n",
      "21  70  70  2444  651  ...   0.782    72   474  546  575   70   39  260  99   \n",
      "\n",
      "     PTS  \n",
      "21  1710  \n",
      "\n",
      "[1 rows x 27 columns]\n"
     ]
    }
   ],
   "source": [
    "print(get_player_stats_for_season(2544,2024))"
   ]
  },
  {
   "cell_type": "code",
   "execution_count": null,
   "id": "df368ab8",
   "metadata": {},
   "outputs": [
    {
     "name": "stdout",
     "output_type": "stream",
     "text": [
      "[1/572] Fetching stats for Precious Achiuwa 1630173\n",
      "[2/572] Fetching stats for Steven Adams 203500\n",
      "[3/572] Fetching stats for Bam Adebayo 1628389\n",
      "[4/572] Fetching stats for Ochai Agbaji 1630534\n",
      "[5/572] Fetching stats for Santi Aldama 1630583\n",
      "[6/572] Fetching stats for Trey Alexander 1641725\n",
      "[7/572] Fetching stats for Nickeil Alexander-Walker 1629638\n",
      "[8/572] Fetching stats for Grayson Allen 1628960\n",
      "[9/572] Fetching stats for Jarrett Allen 1628386\n",
      "[10/572] Fetching stats for Jose Alvarado 1630631\n",
      "[11/572] Fetching stats for Kyle Anderson 203937\n"
     ]
    },
    {
     "ename": "KeyError",
     "evalue": "1",
     "output_type": "error",
     "traceback": [
      "\u001b[31m---------------------------------------------------------------------------\u001b[39m",
      "\u001b[31mKeyError\u001b[39m                                  Traceback (most recent call last)",
      "\u001b[36mFile \u001b[39m\u001b[32mc:\\Users\\the1b\\OneDrive\\Desktop\\PROJECTS\\BasketballPredictor\\Backend\\myenv\\Lib\\site-packages\\pandas\\core\\indexes\\base.py:3805\u001b[39m, in \u001b[36mIndex.get_loc\u001b[39m\u001b[34m(self, key)\u001b[39m\n\u001b[32m   3804\u001b[39m \u001b[38;5;28;01mtry\u001b[39;00m:\n\u001b[32m-> \u001b[39m\u001b[32m3805\u001b[39m     \u001b[38;5;28;01mreturn\u001b[39;00m \u001b[38;5;28;43mself\u001b[39;49m\u001b[43m.\u001b[49m\u001b[43m_engine\u001b[49m\u001b[43m.\u001b[49m\u001b[43mget_loc\u001b[49m\u001b[43m(\u001b[49m\u001b[43mcasted_key\u001b[49m\u001b[43m)\u001b[49m\n\u001b[32m   3806\u001b[39m \u001b[38;5;28;01mexcept\u001b[39;00m \u001b[38;5;167;01mKeyError\u001b[39;00m \u001b[38;5;28;01mas\u001b[39;00m err:\n",
      "\u001b[36mFile \u001b[39m\u001b[32mindex.pyx:167\u001b[39m, in \u001b[36mpandas._libs.index.IndexEngine.get_loc\u001b[39m\u001b[34m()\u001b[39m\n",
      "\u001b[36mFile \u001b[39m\u001b[32mindex.pyx:196\u001b[39m, in \u001b[36mpandas._libs.index.IndexEngine.get_loc\u001b[39m\u001b[34m()\u001b[39m\n",
      "\u001b[36mFile \u001b[39m\u001b[32mpandas\\\\_libs\\\\hashtable_class_helper.pxi:7081\u001b[39m, in \u001b[36mpandas._libs.hashtable.PyObjectHashTable.get_item\u001b[39m\u001b[34m()\u001b[39m\n",
      "\u001b[36mFile \u001b[39m\u001b[32mpandas\\\\_libs\\\\hashtable_class_helper.pxi:7089\u001b[39m, in \u001b[36mpandas._libs.hashtable.PyObjectHashTable.get_item\u001b[39m\u001b[34m()\u001b[39m\n",
      "\u001b[31mKeyError\u001b[39m: 1",
      "\nThe above exception was the direct cause of the following exception:\n",
      "\u001b[31mKeyError\u001b[39m                                  Traceback (most recent call last)",
      "\u001b[36mCell\u001b[39m\u001b[36m \u001b[39m\u001b[32mIn[4]\u001b[39m\u001b[32m, line 33\u001b[39m\n\u001b[32m     30\u001b[39m     \u001b[38;5;28;01mreturn\u001b[39;00m final_df\n\u001b[32m     32\u001b[39m season_year = \u001b[32m2024\u001b[39m\n\u001b[32m---> \u001b[39m\u001b[32m33\u001b[39m regular_df = \u001b[43mget_all_player_stats\u001b[49m\u001b[43m(\u001b[49m\u001b[43mseason_year\u001b[49m\u001b[43m)\u001b[49m\n\u001b[32m     34\u001b[39m regular_df = regular_df.drop_duplicates(subset=[\u001b[33m'\u001b[39m\u001b[33mPLAYER_ID\u001b[39m\u001b[33m'\u001b[39m, \u001b[33m'\u001b[39m\u001b[33mSEASON_ID\u001b[39m\u001b[33m'\u001b[39m], keep=\u001b[33m'\u001b[39m\u001b[33mlast\u001b[39m\u001b[33m'\u001b[39m)\n\u001b[32m     36\u001b[39m regular_df.to_csv(\u001b[33mf\u001b[39m\u001b[33m\"\u001b[39m\u001b[33mplayer_stats_\u001b[39m\u001b[38;5;132;01m{\u001b[39;00mseason_year\u001b[38;5;132;01m}\u001b[39;00m\u001b[33m.csv\u001b[39m\u001b[33m\"\u001b[39m, index=\u001b[38;5;28;01mFalse\u001b[39;00m)\n",
      "\u001b[36mCell\u001b[39m\u001b[36m \u001b[39m\u001b[32mIn[4]\u001b[39m\u001b[32m, line 24\u001b[39m, in \u001b[36mget_all_player_stats\u001b[39m\u001b[34m(season_year)\u001b[39m\n\u001b[32m     22\u001b[39m \u001b[38;5;28;01mif\u001b[39;00m \u001b[38;5;129;01mnot\u001b[39;00m stats_df.empty:\n\u001b[32m     23\u001b[39m     \u001b[38;5;28;01mif\u001b[39;00m \u001b[38;5;28mlen\u001b[39m(stats_df)>\u001b[32m1\u001b[39m:\n\u001b[32m---> \u001b[39m\u001b[32m24\u001b[39m         stats_df[\u001b[38;5;28mlen\u001b[39m(stats_df)-\u001b[32m1\u001b[39m][\u001b[33m'\u001b[39m\u001b[33mTEAM_ID\u001b[39m\u001b[33m'\u001b[39m] = \u001b[43mstats_df\u001b[49m\u001b[43m[\u001b[49m\u001b[38;5;28;43mlen\u001b[39;49m\u001b[43m(\u001b[49m\u001b[43mstats_df\u001b[49m\u001b[43m)\u001b[49m\u001b[43m-\u001b[49m\u001b[32;43m2\u001b[39;49m\u001b[43m]\u001b[49m[\u001b[33m'\u001b[39m\u001b[33mTEAM_ID\u001b[39m\u001b[33m'\u001b[39m]\n\u001b[32m     25\u001b[39m         stats_df[\u001b[38;5;28mlen\u001b[39m(stats_df)-\u001b[32m1\u001b[39m][\u001b[33m'\u001b[39m\u001b[33mTEAM_ABBREVIATION\u001b[39m\u001b[33m'\u001b[39m] = stats_df[\u001b[38;5;28mlen\u001b[39m(stats_df)-\u001b[32m2\u001b[39m][\u001b[33m'\u001b[39m\u001b[33mTEAM_ABBREVIATION\u001b[39m\u001b[33m'\u001b[39m]\n\u001b[32m     26\u001b[39m     stats_df[\u001b[33m'\u001b[39m\u001b[33mFULL_NAME\u001b[39m\u001b[33m'\u001b[39m] = player[\u001b[33m'\u001b[39m\u001b[33mfull_name\u001b[39m\u001b[33m'\u001b[39m]\n",
      "\u001b[36mFile \u001b[39m\u001b[32mc:\\Users\\the1b\\OneDrive\\Desktop\\PROJECTS\\BasketballPredictor\\Backend\\myenv\\Lib\\site-packages\\pandas\\core\\frame.py:4102\u001b[39m, in \u001b[36mDataFrame.__getitem__\u001b[39m\u001b[34m(self, key)\u001b[39m\n\u001b[32m   4100\u001b[39m \u001b[38;5;28;01mif\u001b[39;00m \u001b[38;5;28mself\u001b[39m.columns.nlevels > \u001b[32m1\u001b[39m:\n\u001b[32m   4101\u001b[39m     \u001b[38;5;28;01mreturn\u001b[39;00m \u001b[38;5;28mself\u001b[39m._getitem_multilevel(key)\n\u001b[32m-> \u001b[39m\u001b[32m4102\u001b[39m indexer = \u001b[38;5;28;43mself\u001b[39;49m\u001b[43m.\u001b[49m\u001b[43mcolumns\u001b[49m\u001b[43m.\u001b[49m\u001b[43mget_loc\u001b[49m\u001b[43m(\u001b[49m\u001b[43mkey\u001b[49m\u001b[43m)\u001b[49m\n\u001b[32m   4103\u001b[39m \u001b[38;5;28;01mif\u001b[39;00m is_integer(indexer):\n\u001b[32m   4104\u001b[39m     indexer = [indexer]\n",
      "\u001b[36mFile \u001b[39m\u001b[32mc:\\Users\\the1b\\OneDrive\\Desktop\\PROJECTS\\BasketballPredictor\\Backend\\myenv\\Lib\\site-packages\\pandas\\core\\indexes\\base.py:3812\u001b[39m, in \u001b[36mIndex.get_loc\u001b[39m\u001b[34m(self, key)\u001b[39m\n\u001b[32m   3807\u001b[39m     \u001b[38;5;28;01mif\u001b[39;00m \u001b[38;5;28misinstance\u001b[39m(casted_key, \u001b[38;5;28mslice\u001b[39m) \u001b[38;5;129;01mor\u001b[39;00m (\n\u001b[32m   3808\u001b[39m         \u001b[38;5;28misinstance\u001b[39m(casted_key, abc.Iterable)\n\u001b[32m   3809\u001b[39m         \u001b[38;5;129;01mand\u001b[39;00m \u001b[38;5;28many\u001b[39m(\u001b[38;5;28misinstance\u001b[39m(x, \u001b[38;5;28mslice\u001b[39m) \u001b[38;5;28;01mfor\u001b[39;00m x \u001b[38;5;129;01min\u001b[39;00m casted_key)\n\u001b[32m   3810\u001b[39m     ):\n\u001b[32m   3811\u001b[39m         \u001b[38;5;28;01mraise\u001b[39;00m InvalidIndexError(key)\n\u001b[32m-> \u001b[39m\u001b[32m3812\u001b[39m     \u001b[38;5;28;01mraise\u001b[39;00m \u001b[38;5;167;01mKeyError\u001b[39;00m(key) \u001b[38;5;28;01mfrom\u001b[39;00m\u001b[38;5;250m \u001b[39m\u001b[34;01merr\u001b[39;00m\n\u001b[32m   3813\u001b[39m \u001b[38;5;28;01mexcept\u001b[39;00m \u001b[38;5;167;01mTypeError\u001b[39;00m:\n\u001b[32m   3814\u001b[39m     \u001b[38;5;66;03m# If we have a listlike key, _check_indexing_error will raise\u001b[39;00m\n\u001b[32m   3815\u001b[39m     \u001b[38;5;66;03m#  InvalidIndexError. Otherwise we fall through and re-raise\u001b[39;00m\n\u001b[32m   3816\u001b[39m     \u001b[38;5;66;03m#  the TypeError.\u001b[39;00m\n\u001b[32m   3817\u001b[39m     \u001b[38;5;28mself\u001b[39m._check_indexing_error(key)\n",
      "\u001b[31mKeyError\u001b[39m: 1"
     ]
    }
   ],
   "source": [
    "def get_player_stats_for_season(player_id, season_year):\n",
    "    try:\n",
    "        stats = playercareerstats.PlayerCareerStats(player_id=player_id)\n",
    "        df = stats.get_data_frames()[0]\n",
    "        df = df[df['SEASON_ID']==f\"{season_year}-{str(season_year+1)[-2::]}\"]\n",
    "        df = df[df['LEAGUE_ID']=='00']\n",
    "        df['PPG'] = round(df['PTS'] / df['GP'],1)\n",
    "        df['APG'] = round(df['AST'] / df['GP'],1)\n",
    "        df['PER'] = round((df['FGM']*85.91 + df['STL'] * 53.897 + df['FG3M']*51.757 + df['FTM']*46.845 + df['BLK']*39.19+df['OREB']*39.19+df['AST']*34.677+df['DREB']*14.707-df['PF']*17.174-(df['FTA']-df['FTM'])*20.091-(df['FGA']-df['FGM'])*39.190-df['TOV']*53.897) * (1/df['MIN']),1)\n",
    "        return df\n",
    "    except Exception as e:\n",
    "        print(f\"Failed to get stats for player {player_id}: {e}\")\n",
    "        return pd.DataFrame()\n",
    "\n",
    "\n",
    "def get_all_player_stats(season_year):\n",
    "    all_players = players.get_active_players()\n",
    "    all_stats = []\n",
    "    for i, player in enumerate(all_players):\n",
    "        print(f\"[{i+1}/{len(all_players)}] Fetching stats for {player['full_name']} {player['id']}\")\n",
    "        stats_df = get_player_stats_for_season(player['id'], season_year)\n",
    "        if not stats_df.empty:\n",
    "            if len(stats_df)>1:\n",
    "                stats_df.at[stats_df.index[-1], 'TEAM_ID'] = stats_df.at[stats_df.index[-2], 'TEAM_ID']\n",
    "                stats_df.at[stats_df.index[-1], 'TEAM_ABBREVIATION'] = stats_df.at[stats_df.index[-2], 'TEAM_ABBREVIATION']\n",
    "            stats_df['FULL_NAME'] = player['full_name']\n",
    "            all_stats.append(stats_df.last_valid_index())\n",
    "        time.sleep(0.6)\n",
    "    final_df = pd.concat(all_stats, ignore_index=True)\n",
    "    return final_df\n",
    "\n",
    "season_year = 2024\n",
    "regular_df = get_all_player_stats(season_year)\n",
    "regular_df = regular_df.drop_duplicates(subset=['PLAYER_ID', 'SEASON_ID'], keep='last')\n",
    "\n",
    "regular_df.to_csv(f\"player_stats_{season_year}.csv\", index=False)"
   ]
  }
 ],
 "metadata": {
  "kernelspec": {
   "display_name": "myenv",
   "language": "python",
   "name": "python3"
  },
  "language_info": {
   "codemirror_mode": {
    "name": "ipython",
    "version": 3
   },
   "file_extension": ".py",
   "mimetype": "text/x-python",
   "name": "python",
   "nbconvert_exporter": "python",
   "pygments_lexer": "ipython3",
   "version": "3.13.2"
  }
 },
 "nbformat": 4,
 "nbformat_minor": 5
}
