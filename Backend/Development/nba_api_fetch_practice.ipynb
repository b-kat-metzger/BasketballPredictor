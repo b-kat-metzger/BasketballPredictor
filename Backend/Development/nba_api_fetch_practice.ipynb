{
 "cells": [
  {
   "cell_type": "markdown",
   "id": "a4736fcb",
   "metadata": {},
   "source": [
    "# Practice with fetching data from nba_api\n",
    "Practice fetching player/team stats from nba_api, including both the static and endpoint classes of the stats library"
   ]
  },
  {
   "cell_type": "code",
   "execution_count": null,
   "id": "0c2eb6dc",
   "metadata": {},
   "outputs": [],
   "source": [
    "from nba_api.stats.static import teams\n",
    "from nba_api.stats.static import players\n",
    "from nba_api.stats.endpoints import leaguegamefinder\n",
    "import csv, json\n",
    "import pandas as pd"
   ]
  },
  {
   "cell_type": "code",
   "execution_count": 40,
   "id": "0d030ad6",
   "metadata": {},
   "outputs": [
    {
     "name": "stdout",
     "output_type": "stream",
     "text": [
      "Number of teams fetched: 30\n"
     ]
    },
    {
     "data": {
      "text/plain": [
       "[{'id': 1610612737,\n",
       "  'full_name': 'Atlanta Hawks',\n",
       "  'abbreviation': 'ATL',\n",
       "  'nickname': 'Hawks',\n",
       "  'city': 'Atlanta',\n",
       "  'state': 'Georgia',\n",
       "  'year_founded': 1949},\n",
       " {'id': 1610612738,\n",
       "  'full_name': 'Boston Celtics',\n",
       "  'abbreviation': 'BOS',\n",
       "  'nickname': 'Celtics',\n",
       "  'city': 'Boston',\n",
       "  'state': 'Massachusetts',\n",
       "  'year_founded': 1946},\n",
       " {'id': 1610612739,\n",
       "  'full_name': 'Cleveland Cavaliers',\n",
       "  'abbreviation': 'CLE',\n",
       "  'nickname': 'Cavaliers',\n",
       "  'city': 'Cleveland',\n",
       "  'state': 'Ohio',\n",
       "  'year_founded': 1970}]"
      ]
     },
     "execution_count": 40,
     "metadata": {},
     "output_type": "execute_result"
    }
   ],
   "source": [
    "nba_teams = teams.get_teams()\n",
    "print(\"Number of teams fetched: {}\".format(len(nba_teams)))\n",
    "nba_teams[:3]"
   ]
  },
  {
   "cell_type": "code",
   "execution_count": 3,
   "id": "b614bfa2",
   "metadata": {},
   "outputs": [
    {
     "data": {
      "text/plain": [
       "{'id': 1610612757,\n",
       " 'full_name': 'Portland Trail Blazers',\n",
       " 'abbreviation': 'POR',\n",
       " 'nickname': 'Trail Blazers',\n",
       " 'city': 'Portland',\n",
       " 'state': 'Oregon',\n",
       " 'year_founded': 1970}"
      ]
     },
     "execution_count": 3,
     "metadata": {},
     "output_type": "execute_result"
    }
   ],
   "source": [
    "blazers = [team for team in nba_teams if team[\"full_name\"]==\"Portland Trail Blazers\"][0]\n",
    "blazers"
   ]
  },
  {
   "cell_type": "code",
   "execution_count": 7,
   "id": "1b72d35e",
   "metadata": {},
   "outputs": [
    {
     "data": {
      "text/plain": [
       "{'id': 2544,\n",
       " 'full_name': 'LeBron James',\n",
       " 'first_name': 'LeBron',\n",
       " 'last_name': 'James',\n",
       " 'is_active': True}"
      ]
     },
     "execution_count": 7,
     "metadata": {},
     "output_type": "execute_result"
    }
   ],
   "source": [
    "nba_players = players.get_players()\n",
    "the_king = [player for player in nba_players if player[\"full_name\"]==\"LeBron James\"][0]\n",
    "the_king"
   ]
  },
  {
   "cell_type": "code",
   "execution_count": 8,
   "id": "c0684af3",
   "metadata": {},
   "outputs": [
    {
     "data": {
      "text/plain": [
       "{'id': 203507,\n",
       " 'full_name': 'Giannis Antetokounmpo',\n",
       " 'first_name': 'Giannis',\n",
       " 'last_name': 'Antetokounmpo',\n",
       " 'is_active': True}"
      ]
     },
     "execution_count": 8,
     "metadata": {},
     "output_type": "execute_result"
    }
   ],
   "source": [
    "greek_freak = [player for player in nba_players if player[\"full_name\"]==\"Giannis Antetokounmpo\"][0]\n",
    "greek_freak"
   ]
  },
  {
   "cell_type": "code",
   "execution_count": 44,
   "id": "02521c4d",
   "metadata": {},
   "outputs": [],
   "source": [
    "active_players = [player for player in nba_players if player['is_active']]\n",
    "with open(\"players.json\",'w') as f:\n",
    "    json.dump(active_players,f)"
   ]
  },
  {
   "cell_type": "code",
   "execution_count": null,
   "id": "1bff4dc5",
   "metadata": {},
   "outputs": [
    {
     "name": "stdout",
     "output_type": "stream",
     "text": [
      "1628964\n"
     ]
    }
   ],
   "source": [
    "with open(\"../src/players.json\",\"r\") as FILE:\n",
    "    data = json.load(FILE)\n",
    "    # print(data)\n",
    "\n",
    "mobamba = next((player for player in data if player['id']==1628964),None)\n",
    "# mobamba = list(mobamba)\n",
    "print(mobamba['_full_name'])\n",
    "# print(json.dumps(mobamba))\n"
   ]
  },
  {
   "cell_type": "markdown",
   "id": "eed4b953",
   "metadata": {},
   "source": [
    "## Exporting Team Info\n",
    "Here, I will export each team and their team_id into a csv"
   ]
  },
  {
   "cell_type": "code",
   "execution_count": 26,
   "id": "7a6a1232",
   "metadata": {},
   "outputs": [],
   "source": [
    "FILE = open(\"teams.csv\",'w',newline='')\n",
    "writer = csv.writer(FILE)\n",
    "for team in nba_teams:\n",
    "    writer.writerow([team['full_name'],team['id']])"
   ]
  },
  {
   "cell_type": "markdown",
   "id": "6f2802f5",
   "metadata": {},
   "source": [
    "## Finding Individual Games\n",
    "At this time, the ECF will be Knicks vs Pacers. Let's find their previous matchups from this season"
   ]
  },
  {
   "cell_type": "code",
   "execution_count": 29,
   "id": "d2877bd3",
   "metadata": {},
   "outputs": [
    {
     "data": {
      "text/html": [
       "<div>\n",
       "<style scoped>\n",
       "    .dataframe tbody tr th:only-of-type {\n",
       "        vertical-align: middle;\n",
       "    }\n",
       "\n",
       "    .dataframe tbody tr th {\n",
       "        vertical-align: top;\n",
       "    }\n",
       "\n",
       "    .dataframe thead th {\n",
       "        text-align: right;\n",
       "    }\n",
       "</style>\n",
       "<table border=\"1\" class=\"dataframe\">\n",
       "  <thead>\n",
       "    <tr style=\"text-align: right;\">\n",
       "      <th></th>\n",
       "      <th>SEASON_ID</th>\n",
       "      <th>TEAM_ID</th>\n",
       "      <th>TEAM_ABBREVIATION</th>\n",
       "      <th>TEAM_NAME</th>\n",
       "      <th>GAME_ID</th>\n",
       "      <th>GAME_DATE</th>\n",
       "      <th>MATCHUP</th>\n",
       "      <th>WL</th>\n",
       "      <th>MIN</th>\n",
       "      <th>PTS</th>\n",
       "      <th>...</th>\n",
       "      <th>FT_PCT</th>\n",
       "      <th>OREB</th>\n",
       "      <th>DREB</th>\n",
       "      <th>REB</th>\n",
       "      <th>AST</th>\n",
       "      <th>STL</th>\n",
       "      <th>BLK</th>\n",
       "      <th>TOV</th>\n",
       "      <th>PF</th>\n",
       "      <th>PLUS_MINUS</th>\n",
       "    </tr>\n",
       "  </thead>\n",
       "  <tbody>\n",
       "    <tr>\n",
       "      <th>0</th>\n",
       "      <td>42024</td>\n",
       "      <td>1610612752</td>\n",
       "      <td>NYK</td>\n",
       "      <td>New York Knicks</td>\n",
       "      <td>0042400216</td>\n",
       "      <td>2025-05-16</td>\n",
       "      <td>NYK vs. BOS</td>\n",
       "      <td>W</td>\n",
       "      <td>240</td>\n",
       "      <td>119</td>\n",
       "      <td>...</td>\n",
       "      <td>0.905</td>\n",
       "      <td>15</td>\n",
       "      <td>40</td>\n",
       "      <td>55</td>\n",
       "      <td>25</td>\n",
       "      <td>7</td>\n",
       "      <td>6</td>\n",
       "      <td>14</td>\n",
       "      <td>23</td>\n",
       "      <td>38.0</td>\n",
       "    </tr>\n",
       "    <tr>\n",
       "      <th>1</th>\n",
       "      <td>42024</td>\n",
       "      <td>1610612752</td>\n",
       "      <td>NYK</td>\n",
       "      <td>New York Knicks</td>\n",
       "      <td>0042400215</td>\n",
       "      <td>2025-05-14</td>\n",
       "      <td>NYK @ BOS</td>\n",
       "      <td>L</td>\n",
       "      <td>243</td>\n",
       "      <td>102</td>\n",
       "      <td>...</td>\n",
       "      <td>0.800</td>\n",
       "      <td>12</td>\n",
       "      <td>28</td>\n",
       "      <td>40</td>\n",
       "      <td>17</td>\n",
       "      <td>5</td>\n",
       "      <td>4</td>\n",
       "      <td>10</td>\n",
       "      <td>20</td>\n",
       "      <td>-25.0</td>\n",
       "    </tr>\n",
       "    <tr>\n",
       "      <th>2</th>\n",
       "      <td>42024</td>\n",
       "      <td>1610612752</td>\n",
       "      <td>NYK</td>\n",
       "      <td>New York Knicks</td>\n",
       "      <td>0042400214</td>\n",
       "      <td>2025-05-12</td>\n",
       "      <td>NYK vs. BOS</td>\n",
       "      <td>W</td>\n",
       "      <td>240</td>\n",
       "      <td>121</td>\n",
       "      <td>...</td>\n",
       "      <td>0.750</td>\n",
       "      <td>13</td>\n",
       "      <td>30</td>\n",
       "      <td>43</td>\n",
       "      <td>25</td>\n",
       "      <td>5</td>\n",
       "      <td>2</td>\n",
       "      <td>12</td>\n",
       "      <td>20</td>\n",
       "      <td>8.0</td>\n",
       "    </tr>\n",
       "    <tr>\n",
       "      <th>3</th>\n",
       "      <td>42024</td>\n",
       "      <td>1610612752</td>\n",
       "      <td>NYK</td>\n",
       "      <td>New York Knicks</td>\n",
       "      <td>0042400213</td>\n",
       "      <td>2025-05-10</td>\n",
       "      <td>NYK vs. BOS</td>\n",
       "      <td>L</td>\n",
       "      <td>240</td>\n",
       "      <td>93</td>\n",
       "      <td>...</td>\n",
       "      <td>0.686</td>\n",
       "      <td>17</td>\n",
       "      <td>26</td>\n",
       "      <td>43</td>\n",
       "      <td>16</td>\n",
       "      <td>3</td>\n",
       "      <td>2</td>\n",
       "      <td>11</td>\n",
       "      <td>16</td>\n",
       "      <td>-22.0</td>\n",
       "    </tr>\n",
       "    <tr>\n",
       "      <th>4</th>\n",
       "      <td>42024</td>\n",
       "      <td>1610612752</td>\n",
       "      <td>NYK</td>\n",
       "      <td>New York Knicks</td>\n",
       "      <td>0042400212</td>\n",
       "      <td>2025-05-07</td>\n",
       "      <td>NYK @ BOS</td>\n",
       "      <td>W</td>\n",
       "      <td>240</td>\n",
       "      <td>91</td>\n",
       "      <td>...</td>\n",
       "      <td>0.800</td>\n",
       "      <td>10</td>\n",
       "      <td>36</td>\n",
       "      <td>46</td>\n",
       "      <td>19</td>\n",
       "      <td>11</td>\n",
       "      <td>5</td>\n",
       "      <td>15</td>\n",
       "      <td>16</td>\n",
       "      <td>1.0</td>\n",
       "    </tr>\n",
       "  </tbody>\n",
       "</table>\n",
       "<p>5 rows × 28 columns</p>\n",
       "</div>"
      ],
      "text/plain": [
       "  SEASON_ID     TEAM_ID TEAM_ABBREVIATION        TEAM_NAME     GAME_ID  \\\n",
       "0     42024  1610612752               NYK  New York Knicks  0042400216   \n",
       "1     42024  1610612752               NYK  New York Knicks  0042400215   \n",
       "2     42024  1610612752               NYK  New York Knicks  0042400214   \n",
       "3     42024  1610612752               NYK  New York Knicks  0042400213   \n",
       "4     42024  1610612752               NYK  New York Knicks  0042400212   \n",
       "\n",
       "    GAME_DATE      MATCHUP WL  MIN  PTS  ...  FT_PCT  OREB  DREB  REB  AST  \\\n",
       "0  2025-05-16  NYK vs. BOS  W  240  119  ...   0.905    15    40   55   25   \n",
       "1  2025-05-14    NYK @ BOS  L  243  102  ...   0.800    12    28   40   17   \n",
       "2  2025-05-12  NYK vs. BOS  W  240  121  ...   0.750    13    30   43   25   \n",
       "3  2025-05-10  NYK vs. BOS  L  240   93  ...   0.686    17    26   43   16   \n",
       "4  2025-05-07    NYK @ BOS  W  240   91  ...   0.800    10    36   46   19   \n",
       "\n",
       "   STL  BLK  TOV  PF  PLUS_MINUS  \n",
       "0    7    6   14  23        38.0  \n",
       "1    5    4   10  20       -25.0  \n",
       "2    5    2   12  20         8.0  \n",
       "3    3    2   11  16       -22.0  \n",
       "4   11    5   15  16         1.0  \n",
       "\n",
       "[5 rows x 28 columns]"
      ]
     },
     "execution_count": 29,
     "metadata": {},
     "output_type": "execute_result"
    }
   ],
   "source": [
    "knicks_id = 1610612752\n",
    "gamefinder = leaguegamefinder.LeagueGameFinder(team_id_nullable=knicks_id)\n",
    "games = gamefinder.get_data_frames()[0]\n",
    "games.head()"
   ]
  },
  {
   "cell_type": "markdown",
   "id": "d09512dc",
   "metadata": {},
   "source": [
    "### Knicks vs Pacers for the 24-25 Season"
   ]
  },
  {
   "cell_type": "code",
   "execution_count": 38,
   "id": "4b358ad2",
   "metadata": {},
   "outputs": [
    {
     "data": {
      "text/html": [
       "<div>\n",
       "<style scoped>\n",
       "    .dataframe tbody tr th:only-of-type {\n",
       "        vertical-align: middle;\n",
       "    }\n",
       "\n",
       "    .dataframe tbody tr th {\n",
       "        vertical-align: top;\n",
       "    }\n",
       "\n",
       "    .dataframe thead th {\n",
       "        text-align: right;\n",
       "    }\n",
       "</style>\n",
       "<table border=\"1\" class=\"dataframe\">\n",
       "  <thead>\n",
       "    <tr style=\"text-align: right;\">\n",
       "      <th></th>\n",
       "      <th>SEASON_ID</th>\n",
       "      <th>TEAM_ID</th>\n",
       "      <th>TEAM_ABBREVIATION</th>\n",
       "      <th>TEAM_NAME</th>\n",
       "      <th>GAME_ID</th>\n",
       "      <th>GAME_DATE</th>\n",
       "      <th>MATCHUP</th>\n",
       "      <th>WL</th>\n",
       "      <th>MIN</th>\n",
       "      <th>PTS</th>\n",
       "      <th>...</th>\n",
       "      <th>FT_PCT</th>\n",
       "      <th>OREB</th>\n",
       "      <th>DREB</th>\n",
       "      <th>REB</th>\n",
       "      <th>AST</th>\n",
       "      <th>STL</th>\n",
       "      <th>BLK</th>\n",
       "      <th>TOV</th>\n",
       "      <th>PF</th>\n",
       "      <th>PLUS_MINUS</th>\n",
       "    </tr>\n",
       "  </thead>\n",
       "  <tbody>\n",
       "    <tr>\n",
       "      <th>41</th>\n",
       "      <td>22024</td>\n",
       "      <td>1610612752</td>\n",
       "      <td>NYK</td>\n",
       "      <td>New York Knicks</td>\n",
       "      <td>0022400765</td>\n",
       "      <td>2025-02-11</td>\n",
       "      <td>NYK @ IND</td>\n",
       "      <td>W</td>\n",
       "      <td>241</td>\n",
       "      <td>128</td>\n",
       "      <td>...</td>\n",
       "      <td>0.870</td>\n",
       "      <td>13</td>\n",
       "      <td>35</td>\n",
       "      <td>48</td>\n",
       "      <td>37</td>\n",
       "      <td>6</td>\n",
       "      <td>2</td>\n",
       "      <td>14</td>\n",
       "      <td>22</td>\n",
       "      <td>13.0</td>\n",
       "    </tr>\n",
       "    <tr>\n",
       "      <th>85</th>\n",
       "      <td>22024</td>\n",
       "      <td>1610612752</td>\n",
       "      <td>NYK</td>\n",
       "      <td>New York Knicks</td>\n",
       "      <td>0022400203</td>\n",
       "      <td>2024-11-10</td>\n",
       "      <td>NYK @ IND</td>\n",
       "      <td>L</td>\n",
       "      <td>241</td>\n",
       "      <td>121</td>\n",
       "      <td>...</td>\n",
       "      <td>0.815</td>\n",
       "      <td>8</td>\n",
       "      <td>31</td>\n",
       "      <td>39</td>\n",
       "      <td>23</td>\n",
       "      <td>5</td>\n",
       "      <td>3</td>\n",
       "      <td>13</td>\n",
       "      <td>20</td>\n",
       "      <td>-11.0</td>\n",
       "    </tr>\n",
       "    <tr>\n",
       "      <th>92</th>\n",
       "      <td>22024</td>\n",
       "      <td>1610612752</td>\n",
       "      <td>NYK</td>\n",
       "      <td>New York Knicks</td>\n",
       "      <td>0022400081</td>\n",
       "      <td>2024-10-25</td>\n",
       "      <td>NYK vs. IND</td>\n",
       "      <td>W</td>\n",
       "      <td>240</td>\n",
       "      <td>123</td>\n",
       "      <td>...</td>\n",
       "      <td>0.793</td>\n",
       "      <td>11</td>\n",
       "      <td>32</td>\n",
       "      <td>43</td>\n",
       "      <td>19</td>\n",
       "      <td>5</td>\n",
       "      <td>4</td>\n",
       "      <td>11</td>\n",
       "      <td>18</td>\n",
       "      <td>25.0</td>\n",
       "    </tr>\n",
       "  </tbody>\n",
       "</table>\n",
       "<p>3 rows × 28 columns</p>\n",
       "</div>"
      ],
      "text/plain": [
       "   SEASON_ID     TEAM_ID TEAM_ABBREVIATION        TEAM_NAME     GAME_ID  \\\n",
       "41     22024  1610612752               NYK  New York Knicks  0022400765   \n",
       "85     22024  1610612752               NYK  New York Knicks  0022400203   \n",
       "92     22024  1610612752               NYK  New York Knicks  0022400081   \n",
       "\n",
       "     GAME_DATE      MATCHUP WL  MIN  PTS  ...  FT_PCT  OREB  DREB  REB  AST  \\\n",
       "41  2025-02-11    NYK @ IND  W  241  128  ...   0.870    13    35   48   37   \n",
       "85  2024-11-10    NYK @ IND  L  241  121  ...   0.815     8    31   39   23   \n",
       "92  2024-10-25  NYK vs. IND  W  240  123  ...   0.793    11    32   43   19   \n",
       "\n",
       "    STL  BLK  TOV  PF  PLUS_MINUS  \n",
       "41    6    2   14  22        13.0  \n",
       "85    5    3   13  20       -11.0  \n",
       "92    5    4   11  18        25.0  \n",
       "\n",
       "[3 rows x 28 columns]"
      ]
     },
     "execution_count": 38,
     "metadata": {},
     "output_type": "execute_result"
    }
   ],
   "source": [
    "\n",
    "knicks_pacers = games[games.MATCHUP.str.contains('IND')]\n",
    "knicks_pacers_2425 = knicks_pacers[knicks_pacers['SEASON_ID']=='22024']\n",
    "knicks_pacers_2425"
   ]
  }
 ],
 "metadata": {
  "kernelspec": {
   "display_name": "myenv",
   "language": "python",
   "name": "python3"
  },
  "language_info": {
   "codemirror_mode": {
    "name": "ipython",
    "version": 3
   },
   "file_extension": ".py",
   "mimetype": "text/x-python",
   "name": "python",
   "nbconvert_exporter": "python",
   "pygments_lexer": "ipython3",
   "version": "3.13.2"
  }
 },
 "nbformat": 4,
 "nbformat_minor": 5
}
