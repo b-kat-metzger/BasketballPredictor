{
 "cells": [
  {
   "cell_type": "code",
   "execution_count": 1,
   "id": "bc960f1d",
   "metadata": {},
   "outputs": [],
   "source": [
    "import xgboost as xgb\n",
    "import pandas as pd\n",
    "import numpy as np"
   ]
  },
  {
   "cell_type": "code",
   "execution_count": 13,
   "id": "2acbad54",
   "metadata": {},
   "outputs": [],
   "source": [
    "model = xgb.Booster()\n",
    "model.load_model('predictor.json')"
   ]
  },
  {
   "cell_type": "code",
   "execution_count": 17,
   "id": "3a506e40",
   "metadata": {},
   "outputs": [],
   "source": [
    "team_stats_df = pd.read_csv(\"master_team_stats_2024.csv\")\n",
    "columns = ['HOME_TEAM','AWAY_TEAM','HOME_W_PCT','HOME_FGM_RANK','HOME_FG3M_RANK','HOME_PLUS_MINUS_RANK','HOME_REB_RANK','HOME_AST_RANK','HOME_TOV_RANK','HOME_STL_RANK','HOME_BLK_RANK','HOME_PF_RANK','HOME_PTS_RANK','HOME_DivisionRank','HOME_HOME_WINS','HOME_ROAD_WINS','HOME_CurrentHomeStreak','HOME_CurrentRoadStreak','HOME_CurrentStreak','HOME_HighValueInjured','AWAY_W_PCT','AWAY_FGM_RANK','AWAY_FG3M_RANK','AWAY_PLUS_MINUS_RANK','AWAY_REB_RANK','AWAY_AST_RANK','AWAY_TOV_RANK','AWAY_STL_RANK','AWAY_BLK_RANK','AWAY_PF_RANK','AWAY_PTS_RANK','AWAY_DivisionRank','AWAY_HOME_WINS','AWAY_ROAD_WINS','AWAY_CurrentHomeStreak','AWAY_CurrentRoadStreak','AWAY_CurrentStreak','AWAY_HighValueInjured']"
   ]
  },
  {
   "cell_type": "code",
   "execution_count": 4,
   "id": "1ec077b1",
   "metadata": {},
   "outputs": [],
   "source": [
    "def create_matchup(home_team,away_team):\n",
    "    home_stats = team_stats_df.loc[team_stats_df['TEAM_ABBREVIATION']==home_team].add_prefix('HOME_')\n",
    "    away_stats = team_stats_df.loc[team_stats_df['TEAM_ABBREVIATION']==away_team].add_prefix('AWAY_')\n",
    "\n",
    "    if home_stats.empty or away_stats.empty:\n",
    "        return \"error: invalid team abbreviation\"\n",
    "    \n",
    "    features = pd.concat([home_stats.reset_index(drop=True), away_stats.reset_index(drop=True)],axis=1)\n",
    "    features = features.drop(columns=[col for col in features.columns if 'TEAM_ABBREVIATION' in col])\n",
    "    features['HOME_TEAM'],features['AWAY_TEAM']=home_team,away_team\n",
    "    for col in features.select_dtypes(exclude=np.number).columns.tolist():\n",
    "        features[col] = features[col].astype('category')\n",
    "    features = features.drop(columns=['HOME_W','HOME_L','AWAY_W','AWAY_L'])\n",
    "    return features"
   ]
  },
  {
   "cell_type": "code",
   "execution_count": 56,
   "id": "58031a53",
   "metadata": {},
   "outputs": [],
   "source": [
    "matchup1 = create_matchup('CLE','POR')\n",
    "matchup1 = matchup1[columns]"
   ]
  },
  {
   "cell_type": "code",
   "execution_count": 6,
   "id": "6dadf78e",
   "metadata": {},
   "outputs": [],
   "source": [
    "def predict(matchup):\n",
    "    dmatrix = xgb.DMatrix(matchup,enable_categorical=True)\n",
    "    prediction = model.predict(dmatrix)[0]\n",
    "    return prediction"
   ]
  },
  {
   "cell_type": "code",
   "execution_count": 57,
   "id": "8da0dc05",
   "metadata": {},
   "outputs": [
    {
     "data": {
      "text/plain": [
       "np.float32(0.76100206)"
      ]
     },
     "execution_count": 57,
     "metadata": {},
     "output_type": "execute_result"
    }
   ],
   "source": [
    "predict(matchup1)"
   ]
  }
 ],
 "metadata": {
  "kernelspec": {
   "display_name": "myenv",
   "language": "python",
   "name": "python3"
  },
  "language_info": {
   "codemirror_mode": {
    "name": "ipython",
    "version": 3
   },
   "file_extension": ".py",
   "mimetype": "text/x-python",
   "name": "python",
   "nbconvert_exporter": "python",
   "pygments_lexer": "ipython3",
   "version": "3.13.2"
  }
 },
 "nbformat": 4,
 "nbformat_minor": 5
}
