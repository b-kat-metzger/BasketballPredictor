{
 "cells": [
  {
   "cell_type": "markdown",
   "id": "59830558",
   "metadata": {},
   "source": [
    "# Getting familar with using the nba_api scraping API\n",
    "## 5/13/25\n",
    "This API scrapes live data off of NBA.com/stats, including game data, historical data, player stats\n",
    "This data will be used this to develop an XGBoost algorithm to predict the winner of games for playoffs"
   ]
  },
  {
   "cell_type": "code",
   "execution_count": null,
   "id": "dfe9a8b8",
   "metadata": {
    "vscode": {
     "languageId": "plaintext"
    }
   },
   "outputs": [],
   "source": [
    "import pandas as pd\n",
    "import numpy as np\n",
    "import json, difflib, time, requests"
   ]
  }
 ],
 "metadata": {
  "language_info": {
   "name": "python"
  }
 },
 "nbformat": 4,
 "nbformat_minor": 5
}
