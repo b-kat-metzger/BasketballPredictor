{
 "cells": [
  {
   "cell_type": "markdown",
   "id": "59830558",
   "metadata": {},
   "source": [
    "# Getting familar with using the nba_api scraping API\n",
    "## 5/13/25\n",
    "This API scrapes live data off of NBA.com/stats, including game data, historical data, player stats\n",
    "This data will be used this to develop an XGBoost algorithm to predict the winner of games for playoffs"
   ]
  },
  {
   "cell_type": "code",
   "execution_count": 2,
   "id": "dfe9a8b8",
   "metadata": {},
   "outputs": [],
   "source": [
    "import pandas as pd\n",
    "import numpy as np\n",
    "import json, difflib, time, requests\n",
    "from nba_api.stats.endpoints import cumestatsteamgames, cumestatsteam, gamerotation\n",
    "from nba_api.stats.static import teams, players"
   ]
  },
  {
   "cell_type": "code",
   "execution_count": 3,
   "id": "cf96bba4",
   "metadata": {},
   "outputs": [],
   "source": [
    "#Retry Wrapper\n",
    "def retry(func, retries = 3):\n",
    "    def retry_wrapper(*args, **kwargs):\n",
    "        attempts = 0\n",
    "        while attempts < retries:\n",
    "            try:\n",
    "                return func(*args, **kwargs)\n",
    "            except requests.exceptions.RequestException as e:\n",
    "                print(e)\n",
    "                time.sleep(30)\n",
    "                attemps +=1\n",
    "    return retry_wrapper"
   ]
  },
  {
   "cell_type": "code",
   "execution_count": 7,
   "id": "7dfd4e34",
   "metadata": {},
   "outputs": [],
   "source": [
    "def getSeasonScheduleFrame(seasons, seasonType):\n",
    "    def getGameDate(matchup):\n",
    "        return str(matchup).partition(' at')[0][:10]\n",
    "    def getHomeTeam(matchup):\n",
    "        return str(matchup).partition( 'at')[2]\n",
    "    def getAwayTeam(matchup):\n",
    "        return str(matchup).partition(' at')[0][10:]\n",
    "    def getTeamIDFromNickname(nickname):\n",
    "        return nickname\n",
    "        # return str(teamLookup.loc[teamLookup['nickname'] == difflib.get_close_matches(nickname,teamLookup['nickname'],1)[0]].values[0][0])\n",
    "\n",
    "    @retry\n",
    "    def getRegularSeasonSchedule(season, teamID, seasonType):\n",
    "        season = str(season) + \"-\" + str(season+1)[-2:]\n",
    "        teamGames = cumestatsteamgames.CumeStatsTeamGames(league_id='00',season=season,\n",
    "                                                          season_type_all_star=seasonType,\n",
    "                                                          team_id=teamID).get_normalized_json()\n",
    "        teamGames = pd.DataFrame(json.loads(teamGames)['CumeStatsTeamGames'])\n",
    "        teamGames['SEASON']=season\n",
    "        return teamGames\n",
    "    \n",
    "    teamLookup = pd.DataFrame(teams.get_teams())\n",
    "    scheduleFrame = pd.DataFrame()\n",
    "    for season in seasons:\n",
    "        for id in teamLookup['id']:\n",
    "            time.sleep(1)\n",
    "            scheduleFrame = scheduleFrame.add(getRegularSeasonSchedule(season,id,seasonType))\n",
    "\n",
    "    scheduleFrame['GAME_DATE'] = pd.to_datetime(scheduleFrame['MATCHUP'].map(getGameDate))\n",
    "    scheduleFrame['HOME_TEAM_NICKNAME'] = scheduleFrame['MATCHUP'].map(getHomeTeam)\n",
    "    scheduleFrame['HOME_TEAM_ID'] = scheduleFrame['MATCHUP'].map(getTeamIDFromNickname)\n",
    "    scheduleFrame['AWAY_TEAM_NICKNAME'] = scheduleFrame['MATCHUP'].map(getAwayTeam)\n",
    "    scheduleFrame['AWAY_TEAM_ID'] = scheduleFrame['MATCHUP'].map(getTeamIDFromNickname)\n",
    "    scheduleFrame = scheduleFrame.drop_duplicates()\n",
    "    scheduleFrame = scheduleFrame.reset_index(drop=True)\n",
    "\n",
    "    return scheduleFrame"
   ]
  },
  {
   "cell_type": "code",
   "execution_count": 4,
   "id": "02cd2ffa",
   "metadata": {},
   "outputs": [],
   "source": [
    "def getSingleGameMetrics(gameID, homeTeamID, awayTeamID, awayTeamNickname, seasonYear, gameDate):\n",
    "    @retry\n",
    "    def getGameStats(teamID, gameID, seasonYear):\n",
    "        gameStats = cumestatsteam.CumeStatsTeam(game_ids = gameID, league_id=\"00\",\n",
    "                                                season=seasonYear, season_type_all_star=\"Regular Season\",\n",
    "                                                team_id=teamID).get_normalized_json()\n",
    "        gameStats = pd.DataFrame(json.loads(gameStats)['TotalTeamStats'])\n",
    "        return gameStats\n",
    "    data = getGameStats(homeTeamID,gameID,seasonYear)\n",
    "    data.at[1,'NICKNAME']=awayTeamNickname\n",
    "    data.at[1,'TEAM_ID']=awayTeamID\n",
    "    data.at[1,'OFFENSIVE_EFFICIENCY']=(data.at[1,'FG']+data.at[1,'AST'])/(data.at[1,'FGA']-data.at[1,'OFF_REB']+data.at[1,'AST']+data.at[1,'TOTAL_TURNOVERS'])\n",
    "    data.at[1,'SCORING_MARGIN'] = data.at[1,'PTS']-data.at[0,'PTS']\n",
    "\n",
    "    data.at[0,'OFFENSIVE_EFFICIENCY']=(data.at[0,'FG']+data.at[0,'AST'])/(data.at[0,'FGA']-data.at[0,'OFF_REB']+data.at[0,'AST']+data.at[0,'TOTAL_TURNOVERS'])\n",
    "    data.at[1,'SCORING_MARGIN'] = data.at[0,'PTS']-data.at[1,'PTS']\n",
    "    \n",
    "    data['SEASON']=seasonYear\n",
    "    data['GAME_DATE']=gameDate\n",
    "    data['GAME_ID']=gameID\n",
    "\n",
    "    return data"
   ]
  },
  {
   "cell_type": "code",
   "execution_count": 5,
   "id": "f5c2a896",
   "metadata": {},
   "outputs": [],
   "source": [
    "def getGameLogs(gameLogs,scheduleFrame):\n",
    "    \n",
    "    # Functions to prepare additional columns after gameLogs table loads\n",
    "    def getHomeAwayFlag(gameDF):\n",
    "        gameDF['HOME_FLAG'] = np.where((gameDF['W_HOME']==1) | (gameDF['L_HOME']==1),1,0)\n",
    "        gameDF['AWAY_FLAG'] = np.where((gameDF['W_ROAD']==1) | (gameDF['L_ROAD']==1),1,0) \n",
    "\n",
    "    def getTotalWinPctg(gameDF):\n",
    "        gameDF['TOTAL_GAMES_PLAYED'] = gameDF.groupby(['TEAM_ID','SEASON'])['GAME_DATE'].rank(ascending=True)\n",
    "        gameDF['TOTAL_WINS'] = gameDF.sort_values(by='GAME_DATE').groupby(['TEAM_ID','SEASON'])['W'].cumsum()\n",
    "        gameDF['TOTAL_WIN_PCTG'] = gameDF['TOTAL_WINS']/gameDF['TOTAL_GAMES_PLAYED']\n",
    "        return gameDF.drop(['TOTAL_GAMES_PLAYED','TOTAL_WINS'],axis=1)\n",
    "\n",
    "    def getHomeWinPctg(gameDF):\n",
    "        gameDF['HOME_GAMES_PLAYED'] = gameDF.sort_values(by='GAME_DATE').groupby(['TEAM_ID','SEASON'])['HOME_FLAG'].cumsum()\n",
    "        gameDF['HOME_WINS'] = gameDF.sort_values(by='GAME_DATE').groupby(['TEAM_ID','SEASON'])['W_HOME'].cumsum()\n",
    "        gameDF['HOME_WIN_PCTG'] = gameDF['HOME_WINS']/gameDF['HOME_GAMES_PLAYED']\n",
    "        return gameDF.drop(['HOME_GAMES_PLAYED','HOME_WINS'],axis=1)\n",
    "\n",
    "    def getAwayWinPctg(gameDF):\n",
    "        gameDF['AWAY_GAMES_PLAYED'] = gameDF.sort_values(by='GAME_DATE').groupby(['TEAM_ID','SEASON'])['AWAY_FLAG'].cumsum()\n",
    "        gameDF['AWAY_WINS'] = gameDF.sort_values(by='GAME_DATE').groupby(['TEAM_ID','SEASON'])['W_ROAD'].cumsum()\n",
    "        gameDF['AWAY_WIN_PCTG'] = gameDF['AWAY_WINS']/gameDF['AWAY_GAMES_PLAYED']\n",
    "        return gameDF.drop(['AWAY_GAMES_PLAYED','AWAY_WINS'],axis=1)\n",
    "\n",
    "    def getRollingOE(gameDF):\n",
    "        gameDF['ROLLING_OE'] = gameDF.sort_values(by='GAME_DATE').groupby(['TEAM_ID','SEASON'])['OFFENSIVE_EFFICIENCY'].transform(lambda x: x.rolling(3, 1).mean())\n",
    "\n",
    "    def getRollingScoringMargin(gameDF):\n",
    "        gameDF['ROLLING_SCORING_MARGIN'] = gameDF.sort_values(by='GAME_DATE').groupby(['TEAM_ID','SEASON'])['SCORING_MARGIN'].transform(lambda x: x.rolling(3, 1).mean())\n",
    "\n",
    "    def getRestDays(gameDF):\n",
    "        gameDF['LAST_GAME_DATE'] = gameDF.sort_values(by='GAME_DATE').groupby(['TEAM_ID','SEASON'])['GAME_DATE'].shift(1)\n",
    "        gameDF['NUM_REST_DAYS'] = (gameDF['GAME_DATE'] - gameDF['LAST_GAME_DATE'])/np.timedelta64(1,'D') \n",
    "        return gameDF.drop('LAST_GAME_DATE',axis=1)\n",
    "    \n",
    "    start = time.perf_counter_ns()\n",
    "\n",
    "    i = int(len(gameLogs)/2) #Can use a previously completed gameLog dataset\n",
    "\n",
    "    while i<len(scheduleFrame):\n",
    "\n",
    "\n",
    "        time.sleep(1)\n",
    "        gameLogs =  gameLogs.append(getSingleGameMetrics(scheduleFrame.at[i,'GAME_ID'],scheduleFrame.at[i,'HOME_TEAM_ID'],\n",
    "                         scheduleFrame.at[i,'AWAY_TEAM_ID'],scheduleFrame.at[i,'AWAY_TEAM_NICKNAME'],\n",
    "                         scheduleFrame.at[i,'SEASON'],scheduleFrame.at[i,'GAME_DATE']))\n",
    "        \n",
    "        gameLogs = gameLogs.reset_index(drop=True)\n",
    "\n",
    "        end = time.perf_counter_ns()\n",
    "\n",
    "        #Output time it took to load x amount of records\n",
    "        if i%100 == 0:\n",
    "            mins = ((end-start)/1e9)/60\n",
    "            print(i,str(mins) + ' minutes')\n",
    "\n",
    "        i+=1\n",
    "        \n",
    "    # Get Table Level Aggregation Columns\n",
    "    getHomeAwayFlag(gameLogs)\n",
    "    gameLogs = getHomeWinPctg(gameLogs)\n",
    "    gameLogs = getAwayWinPctg(gameLogs)\n",
    "    gameLogs = getTotalWinPctg(gameLogs)\n",
    "    getRollingScoringMargin(gameLogs)\n",
    "    getRollingOE(gameLogs)\n",
    "    gameLogs = getRestDays(gameLogs)\n",
    "\n",
    "    return gameLogs.reset_index(drop=True)"
   ]
  },
  {
   "cell_type": "code",
   "execution_count": 8,
   "id": "94b20d4f",
   "metadata": {},
   "outputs": [
    {
     "name": "stdout",
     "output_type": "stream",
     "text": [
      "1.6957100083333332\n"
     ]
    }
   ],
   "source": [
    "#Get ScheduleFrame\n",
    "\n",
    "seasons = [2022,2023,2024]\n",
    "seasonType = 'Regular Season'\n",
    "\n",
    "start = time.perf_counter_ns() # Track cell's runtime\n",
    "scheduleFrame = getSeasonScheduleFrame(seasons,seasonType)\n",
    "end = time.perf_counter_ns()\n",
    "\n",
    "secs = (end-start)/1e9\n",
    "mins = secs/60\n",
    "print(mins)"
   ]
  },
  {
   "cell_type": "code",
   "execution_count": 9,
   "id": "aa1e8c28",
   "metadata": {},
   "outputs": [
    {
     "ename": "KeyError",
     "evalue": "104",
     "output_type": "error",
     "traceback": [
      "\u001b[31m---------------------------------------------------------------------------\u001b[39m",
      "\u001b[31mValueError\u001b[39m                                Traceback (most recent call last)",
      "\u001b[36mFile \u001b[39m\u001b[32mc:\\Users\\the1b\\OneDrive\\Desktop\\PROJECTS\\BasketballPredictor\\Backend\\myenv\\Lib\\site-packages\\pandas\\core\\indexes\\range.py:413\u001b[39m, in \u001b[36mRangeIndex.get_loc\u001b[39m\u001b[34m(self, key)\u001b[39m\n\u001b[32m    412\u001b[39m \u001b[38;5;28;01mtry\u001b[39;00m:\n\u001b[32m--> \u001b[39m\u001b[32m413\u001b[39m     \u001b[38;5;28;01mreturn\u001b[39;00m \u001b[38;5;28;43mself\u001b[39;49m\u001b[43m.\u001b[49m\u001b[43m_range\u001b[49m\u001b[43m.\u001b[49m\u001b[43mindex\u001b[49m\u001b[43m(\u001b[49m\u001b[43mnew_key\u001b[49m\u001b[43m)\u001b[49m\n\u001b[32m    414\u001b[39m \u001b[38;5;28;01mexcept\u001b[39;00m \u001b[38;5;167;01mValueError\u001b[39;00m \u001b[38;5;28;01mas\u001b[39;00m err:\n",
      "\u001b[31mValueError\u001b[39m: 104 is not in range",
      "\nThe above exception was the direct cause of the following exception:\n",
      "\u001b[31mKeyError\u001b[39m                                  Traceback (most recent call last)",
      "\u001b[36mCell\u001b[39m\u001b[36m \u001b[39m\u001b[32mIn[9]\u001b[39m\u001b[32m, line 2\u001b[39m\n\u001b[32m      1\u001b[39m \u001b[38;5;66;03m#Example Output of Single Game Metrics\u001b[39;00m\n\u001b[32m----> \u001b[39m\u001b[32m2\u001b[39m getSingleGameMetrics(\u001b[43mscheduleFrame\u001b[49m\u001b[43m.\u001b[49m\u001b[43mat\u001b[49m\u001b[43m[\u001b[49m\u001b[32;43m104\u001b[39;49m\u001b[43m,\u001b[49m\u001b[33;43m'\u001b[39;49m\u001b[33;43mGAME_ID\u001b[39;49m\u001b[33;43m'\u001b[39;49m\u001b[43m]\u001b[49m,scheduleFrame.at[\u001b[32m104\u001b[39m,\u001b[33m'\u001b[39m\u001b[33mHOME_TEAM_ID\u001b[39m\u001b[33m'\u001b[39m],\n\u001b[32m      3\u001b[39m                      scheduleFrame.at[\u001b[32m104\u001b[39m,\u001b[33m'\u001b[39m\u001b[33mAWAY_TEAM_ID\u001b[39m\u001b[33m'\u001b[39m],scheduleFrame.at[\u001b[32m104\u001b[39m,\u001b[33m'\u001b[39m\u001b[33mAWAY_TEAM_NICKNAME\u001b[39m\u001b[33m'\u001b[39m],\n\u001b[32m      4\u001b[39m                      scheduleFrame.at[\u001b[32m104\u001b[39m,\u001b[33m'\u001b[39m\u001b[33mSEASON\u001b[39m\u001b[33m'\u001b[39m],scheduleFrame.at[\u001b[32m104\u001b[39m,\u001b[33m'\u001b[39m\u001b[33mGAME_DATE\u001b[39m\u001b[33m'\u001b[39m])\n",
      "\u001b[36mFile \u001b[39m\u001b[32mc:\\Users\\the1b\\OneDrive\\Desktop\\PROJECTS\\BasketballPredictor\\Backend\\myenv\\Lib\\site-packages\\pandas\\core\\indexing.py:2575\u001b[39m, in \u001b[36m_AtIndexer.__getitem__\u001b[39m\u001b[34m(self, key)\u001b[39m\n\u001b[32m   2572\u001b[39m         \u001b[38;5;28;01mraise\u001b[39;00m \u001b[38;5;167;01mValueError\u001b[39;00m(\u001b[33m\"\u001b[39m\u001b[33mInvalid call for scalar access (getting)!\u001b[39m\u001b[33m\"\u001b[39m)\n\u001b[32m   2573\u001b[39m     \u001b[38;5;28;01mreturn\u001b[39;00m \u001b[38;5;28mself\u001b[39m.obj.loc[key]\n\u001b[32m-> \u001b[39m\u001b[32m2575\u001b[39m \u001b[38;5;28;01mreturn\u001b[39;00m \u001b[38;5;28;43msuper\u001b[39;49m\u001b[43m(\u001b[49m\u001b[43m)\u001b[49m\u001b[43m.\u001b[49m\u001b[34;43m__getitem__\u001b[39;49m\u001b[43m(\u001b[49m\u001b[43mkey\u001b[49m\u001b[43m)\u001b[49m\n",
      "\u001b[36mFile \u001b[39m\u001b[32mc:\\Users\\the1b\\OneDrive\\Desktop\\PROJECTS\\BasketballPredictor\\Backend\\myenv\\Lib\\site-packages\\pandas\\core\\indexing.py:2527\u001b[39m, in \u001b[36m_ScalarAccessIndexer.__getitem__\u001b[39m\u001b[34m(self, key)\u001b[39m\n\u001b[32m   2524\u001b[39m         \u001b[38;5;28;01mraise\u001b[39;00m \u001b[38;5;167;01mValueError\u001b[39;00m(\u001b[33m\"\u001b[39m\u001b[33mInvalid call for scalar access (getting)!\u001b[39m\u001b[33m\"\u001b[39m)\n\u001b[32m   2526\u001b[39m key = \u001b[38;5;28mself\u001b[39m._convert_key(key)\n\u001b[32m-> \u001b[39m\u001b[32m2527\u001b[39m \u001b[38;5;28;01mreturn\u001b[39;00m \u001b[38;5;28;43mself\u001b[39;49m\u001b[43m.\u001b[49m\u001b[43mobj\u001b[49m\u001b[43m.\u001b[49m\u001b[43m_get_value\u001b[49m\u001b[43m(\u001b[49m\u001b[43m*\u001b[49m\u001b[43mkey\u001b[49m\u001b[43m,\u001b[49m\u001b[43m \u001b[49m\u001b[43mtakeable\u001b[49m\u001b[43m=\u001b[49m\u001b[38;5;28;43mself\u001b[39;49m\u001b[43m.\u001b[49m\u001b[43m_takeable\u001b[49m\u001b[43m)\u001b[49m\n",
      "\u001b[36mFile \u001b[39m\u001b[32mc:\\Users\\the1b\\OneDrive\\Desktop\\PROJECTS\\BasketballPredictor\\Backend\\myenv\\Lib\\site-packages\\pandas\\core\\frame.py:4221\u001b[39m, in \u001b[36mDataFrame._get_value\u001b[39m\u001b[34m(self, index, col, takeable)\u001b[39m\n\u001b[32m   4215\u001b[39m engine = \u001b[38;5;28mself\u001b[39m.index._engine\n\u001b[32m   4217\u001b[39m \u001b[38;5;28;01mif\u001b[39;00m \u001b[38;5;129;01mnot\u001b[39;00m \u001b[38;5;28misinstance\u001b[39m(\u001b[38;5;28mself\u001b[39m.index, MultiIndex):\n\u001b[32m   4218\u001b[39m     \u001b[38;5;66;03m# CategoricalIndex: Trying to use the engine fastpath may give incorrect\u001b[39;00m\n\u001b[32m   4219\u001b[39m     \u001b[38;5;66;03m#  results if our categories are integers that dont match our codes\u001b[39;00m\n\u001b[32m   4220\u001b[39m     \u001b[38;5;66;03m# IntervalIndex: IntervalTree has no get_loc\u001b[39;00m\n\u001b[32m-> \u001b[39m\u001b[32m4221\u001b[39m     row = \u001b[38;5;28;43mself\u001b[39;49m\u001b[43m.\u001b[49m\u001b[43mindex\u001b[49m\u001b[43m.\u001b[49m\u001b[43mget_loc\u001b[49m\u001b[43m(\u001b[49m\u001b[43mindex\u001b[49m\u001b[43m)\u001b[49m\n\u001b[32m   4222\u001b[39m     \u001b[38;5;28;01mreturn\u001b[39;00m series._values[row]\n\u001b[32m   4224\u001b[39m \u001b[38;5;66;03m# For MultiIndex going through engine effectively restricts us to\u001b[39;00m\n\u001b[32m   4225\u001b[39m \u001b[38;5;66;03m#  same-length tuples; see test_get_set_value_no_partial_indexing\u001b[39;00m\n",
      "\u001b[36mFile \u001b[39m\u001b[32mc:\\Users\\the1b\\OneDrive\\Desktop\\PROJECTS\\BasketballPredictor\\Backend\\myenv\\Lib\\site-packages\\pandas\\core\\indexes\\range.py:415\u001b[39m, in \u001b[36mRangeIndex.get_loc\u001b[39m\u001b[34m(self, key)\u001b[39m\n\u001b[32m    413\u001b[39m         \u001b[38;5;28;01mreturn\u001b[39;00m \u001b[38;5;28mself\u001b[39m._range.index(new_key)\n\u001b[32m    414\u001b[39m     \u001b[38;5;28;01mexcept\u001b[39;00m \u001b[38;5;167;01mValueError\u001b[39;00m \u001b[38;5;28;01mas\u001b[39;00m err:\n\u001b[32m--> \u001b[39m\u001b[32m415\u001b[39m         \u001b[38;5;28;01mraise\u001b[39;00m \u001b[38;5;167;01mKeyError\u001b[39;00m(key) \u001b[38;5;28;01mfrom\u001b[39;00m\u001b[38;5;250m \u001b[39m\u001b[34;01merr\u001b[39;00m\n\u001b[32m    416\u001b[39m \u001b[38;5;28;01mif\u001b[39;00m \u001b[38;5;28misinstance\u001b[39m(key, Hashable):\n\u001b[32m    417\u001b[39m     \u001b[38;5;28;01mraise\u001b[39;00m \u001b[38;5;167;01mKeyError\u001b[39;00m(key)\n",
      "\u001b[31mKeyError\u001b[39m: 104"
     ]
    }
   ],
   "source": [
    "#Example Output of Single Game Metrics\n",
    "getSingleGameMetrics(scheduleFrame.at[104,'GAME_ID'],scheduleFrame.at[104,'HOME_TEAM_ID'],\n",
    "                     scheduleFrame.at[104,'AWAY_TEAM_ID'],scheduleFrame.at[104,'AWAY_TEAM_NICKNAME'],\n",
    "                     scheduleFrame.at[104,'SEASON'],scheduleFrame.at[104,'GAME_DATE'])"
   ]
  }
 ],
 "metadata": {
  "kernelspec": {
   "display_name": "myenv",
   "language": "python",
   "name": "python3"
  },
  "language_info": {
   "codemirror_mode": {
    "name": "ipython",
    "version": 3
   },
   "file_extension": ".py",
   "mimetype": "text/x-python",
   "name": "python",
   "nbconvert_exporter": "python",
   "pygments_lexer": "ipython3",
   "version": "3.13.2"
  }
 },
 "nbformat": 4,
 "nbformat_minor": 5
}
